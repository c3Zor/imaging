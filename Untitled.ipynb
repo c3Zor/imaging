{
 "cells": [
  {
   "cell_type": "code",
   "execution_count": 4,
   "metadata": {},
   "outputs": [],
   "source": [
    "from IPython.display import Image"
   ]
  },
  {
   "cell_type": "markdown",
   "metadata": {},
   "source": [
    "AI for 3D medical imaging is garnering a lot of attention recently because of all the advances in the deep learning space. Some of the early applications are very promising.\n",
    "\n",
    "To get an idea of the growth of this industry, take a look at what the American College of Radiology (ACR) has been doing. The ACR is a US professional society that develops guidelines for the use of medical imaging technology.\n",
    "\n",
    "Recently the ACR has been actively working with clinicians and regulators to define the use cases for AI in radiology and help the FDA find the proper regulatory frameworks for various AI techniques. Two initiatives are worth taking a look now:\n",
    "\n",
    "ACR has been developing a comprehensive list of use cases for AI in radiology: https://www.acrdsi.org/DSI-Services/Define-AI\n",
    "the ACR has been keeping track of FDA cleared tools for radiological imaging: https://www.acrdsi.org/DSI-Services/FDA-Cleared-AI-Algorithms\n"
   ]
  },
  {
   "cell_type": "markdown",
   "metadata": {},
   "source": [
    "__Deep Learning fundamentals__ - there are plenty of very deep courses on the subject. If you feel like you need to get a deeper understanding of the subject, we recommend looking for some of the Udacity courses, like the [Deep Learning Nanodegree](https://www.udacity.com/course/deep-learning-nanodegree--nd101) or some of the free resources like Stanford’s [video lectures](https://www.youtube.com/playlist?list=PL3FW7Lu3i5JvHM8ljYj-zLfQRF3EO8sYv) and [tutorial](http://ufldl.stanford.edu/tutorial/supervised/LinearRegression/). Another good resource is the [fast.ai](https://www.fast.ai/) course which has been built by Jeremy Howard who has co-founded a medical imaging AI startup, Enlitic.<br>\n",
    "__PyTorch or any other specific libraries.__ If you want to get a fundamental grasp of PyTorch specifically, we recommend PyTorch’s [tutorial](https://pytorch.org/tutorials/beginner/deep_learning_60min_blitz.html) or the free [Udacity course](https://www.udacity.com/course/deep-learning-pytorch--ud188). We will also use NumPy quite a lot and if you need a quick intro into that, the [official tutorial](https://numpy.org/doc/stable/user/quickstart.html) gives you everything you need to understand the code in this course.<br>\n",
    "__High-performance/large-scale computing on massive medical imaging datasets.__ Medical imaging datasets may become big (we are talking hundreds of gigabytes). Using them efficiently would tap into generic software architecture skills for building distributed systems, most likely using the major clouds. Every cloud provider offers a set of resources on the optimal use of their technologies. For example, you can take a look at [Microsoft’s design patterns for machine learning at scale.](https://docs.microsoft.com/en-us/azure/architecture/data-guide/big-data/machine-learning-at-scale)<br>\n",
    "__Diagnostic medical imaging.__ While you will hopefully gain some intuition required for an understanding of radiological images and clinicians' thought process better, it takes years of medical school and residency to become proficient with using 3D medical imaging for clinical purposes. [Radiopaedia](https://radiopaedia.org/) is a great resource to look at the variety of sample radiological cases and get familiar with how various conditions present in radiological studies.\n",
    "\n",
    "Tools and libraries\n",
    "In this course, you will use standard data science/machine learning tools:\n",
    "\n",
    "- PyTorch\n",
    "- NumPy\n",
    "- Python\n",
    "- Jupyter Notebook<br>\n",
    "\n",
    "We will learn and use some of the libraries specific to medical imaging:\n",
    "\n",
    "- PyDicom\n",
    "- NiBabel <br>\n",
    "\n",
    "And some of the interactive tools for working with images and debugging networks :\n",
    "\n",
    "- 3D Slicer\n",
    "- Microdicom\n",
    "- Radiant\n",
    "- Dcmtk<br>\n",
    "\n",
    "__VNC__\n",
    "This workspace will include the ability to access a virtual desktop over VNC server. These environments will use the GPU to access the VNC and the environment, <code>medai</code>. You can also disable GPU when you are coding (and not running the code) or writing an explanation in the starter files. You will also be able access a couple of different functions listed below when it is necessary for the exercise:\n",
    "\n",
    "__Jupyter Notebooks__ - In any terminal use the following command bash <code>launch_jupyter.sh </code> And from there you can find the URL contained in the box created by the asterisks(*) and paste this in the address bar of the web browser you are using to open a jupyter notebook with the relevant files in the home directory.\n",
    "__Slicer__ - This is an interactive desktop-based tool for viewing 3D medical images. If you would like to use it over the remote desktop, you will need to enable the GPU. Slicer is already configured on the VNC desktop so when you enter the virtual desktop via the Desktop button at the bottom right hand corner, you can find a Slicer as a shortcut on the desktop.\n",
    "B. Local Machine\n",
    "However, if you would like to run the exercises on your own local machines, below is a list of things you need to install on your local machine before running exercises.\n",
    "\n",
    "First, you would need a Python 3.7+ environment with the following libraries:\n",
    "\n",
    "PyTorch (preferably with CUDA)\n",
    "nibabel\n",
    "matplotlib\n",
    "numpy\n",
    "pydicom\n",
    "Pillow (should be installed with pytorch)\n",
    "tensorboard\n",
    "In the final lesson of the course, the exercises will have you work with some extra tools:\n",
    "\n",
    "3D Slicer for viewing and annotating 3D volumes\n",
    "DCMTK tools for testing and emulating a medical imaging device. Note that if you are running a Linux distribution, you might be able to install dcmtk directly from the package manager (e.g.  <code>apt-get install dcmtk</code> in Ubuntu)\n",
    "Don’t worry too much about these for now if you choose to work in a local environment - we will introduce tools gradually as you go through the course, some with more detailed instructions, and you will have the chance to iteratively update your working environment.\n",
    "\n",
    "### Clinical Background and Physics of 3D Medical Imaging - Introduction\n",
    "\n",
    "#### Conceptual map\n",
    "Let’s return to the conceptual map introduced in the previous lesson and highlight the areas that we will touch on in this lesson.\n",
    "<img src=\"img/l1-course-overview.png\">\n",
    "\n",
    "\n",
    "### Lesson summary\n",
    "In this lesson, we will have Mazen share his perspective on the following:\n",
    "\n",
    "- What are 3D medical images?\n",
    "- Who uses 3D medical images?\n",
    "- Why are they being used?\n",
    "- Some example clinical scenarios\n",
    "After that, we will have you perform an __exercise__ on picking a suitable problem for an AI project by tapping into publicly available medical resources.\n",
    "\n",
    "Then, we will go into some technical details and cover:\n",
    "\n",
    "- Physical principles of CT scanners and then perform an __exercise__ on computing a sinogram\n",
    "- Physical principles of MR scanners\n",
    "- Cover basic 3D imaging tasks:\n",
    "- Multi-planar reconstruction\n",
    "- 3D reconstruction\n",
    "- Windowing\n",
    "- Registration<br>\n",
    "\n",
    "We will finish the lesson by having you perform an __exercise__ where you will write code to do a 3D reconstruction of a 3D medical volume.\n",
    "\n",
    "[VIDEO LINK](https://www.youtube.com/watch?time_continue=272&v=dB42CFoCWIA&feature=emb_logo)\n",
    "Now we have a grasp of what 3D medical images are, and what modalities generate them. In the next video, we’ll discuss why we would use them over other types of medical imaging.\n",
    "\n",
    "__New Vocabulary__\n",
    "- __Imaging modality:__ a device used to acquire a medical image\n",
    "- __MRI scanner:__ Magnetic Resonance Imaging scanner\n",
    "\n",
    "[VIDEO LINK why 3D](https://youtu.be/wqHedjEWPjI)\n",
    "\n",
    "We’ve covered why we would use 3D medical images, and discussed some important considerations when choosing the appropriate imaging modality for a given problem. Next up, we’ll learn about who uses 3D medical images in day-to-day practice.\n",
    "\n",
    "__New Vocabulary__\n",
    "- __Contrast resolution:__ the ability of an imaging modality to distinguish between differences in image intensity\n",
    "- __Spatial resolution:__ the ability of an imaging modality to differentiate between smaller objects\n",
    "\n",
    "[VIDEO LINK who uses medical images](https://youtu.be/jWNmHfbOIb4)\n",
    "\n",
    "[VIDEO LINK Example Clinical Scenario](https://youtu.be/BA7lAQiDA6k)<br>\n",
    "[VIDEO LINK CLINICAL DECITION METRICS](https://youtu.be/OEpr6ONXW8E)\n",
    "\n",
    "Good work, you’ve started to integrate the information from all the prior videos while exploring some example clinical cases, and have seen how imaging can influence clinical-decision making. You’ve also been introduced to the likelihood ratio, a crucial diagnostic performance metric used to determine whether a test result usefully changes the probability that a condition/disease is present. Next up, you’ll further practice integrating this information in the given exercise."
   ]
  },
  {
   "cell_type": "markdown",
   "metadata": {},
   "source": [
    "# Lesson 1 Exercise\n",
    "\n",
    "## Choosing a clinical problem and framing it as a machine learning task\n",
    "\n",
    "So far you have heard from a clinician about some of the opportunities in medical imaging for AI tools. You have seen some examples of medical imaging problems ripe for disruption, and you have been introduced to the concept of medical imaging modalities and the many clinical specialties that deal with medical imaging.\n",
    "\n",
    "We will dive deeper into many of these topics, including imaging formats and some machine learning algorithms for image processing, but for now we would like you to start thinking about clinical problems from AI engineer perspective.\n",
    "\n",
    "In this exercise we want you to practice how to choose a clinical problem to tackle, explore how to research some basic facts about the disease, and frame the clinical problem as a machine learning task. You will not be expected to write code in this exercise. Rather, you will write a project proposal as a free form document. Don't be daunted - you are the best judge of this proposal, so write one that you think you will be able to show to a fellow clinician.\n",
    "\n",
    "## Part 1: Choosing a clinical case\n",
    "\n",
    "Exciting clinical problems abound in the realm of Healthcare AI. To help you narrow down some potential ideas, we will use the American College of Radiology Data Science Institute (ACR DSI) curated list of use cases that is available by following [this link](https://www.acrdsi.org/DSI-Services/Define-AI). Alternatively, you may explore any clinical problem of your choosing without using the database if you already had something in mind. Please note that some use cases in the ACR DSI database can seem overwhelming or obscure without some background medical knowledge. If this is case, simply choose something that's more intuitive. A few good starting examples include: [Acute Appendicitis](https://www.acrdsi.org/DSI-Services/Define-AI/Use-Cases/Acute-Appendicitis), [Aging Brain - Dementia](https://www.acrdsi.org/DSI-Services/Define-AI/Use-Cases/Aging-Brain---Dementia), and [Incidental Pulmonary Nodules on CT](https://www.acrdsi.org/DSI-Services/Define-AI/Use-Cases/Incidental-Pulmonary-Nodules-on-CT).\n",
    "\n",
    "Your task for this first part is to choose a case. If you choose to use the ACR DSI database, include **the link that points to your use case**. If using any other resources, please include an **image capture of PDF of a medical or AI journal article** that explores this problem within the context of machine learning."
   ]
  },
  {
   "cell_type": "code",
   "execution_count": null,
   "metadata": {},
   "outputs": [],
   "source": []
  },
  {
   "cell_type": "markdown",
   "metadata": {},
   "source": [
    "## Part 2: Background research\n",
    "\n",
    "To deliver an algorithm that performs well in a clinical setting, it can be extremely beneficial to have some rudimentary understanding of the disease or situation you are addressing. To do so, engaging in some background research to build your foundation will be crucial. For this part of the exercise, find a review article describing the problem. A good source of such articles is the PubMed database which is the initiative of the National Institutes of Health and contains over 30 million citations and full texts of biomedical articles and essays. PubMed database can be accessed here: https://pubmed.ncbi.nlm.nih.gov/\n",
    "\n",
    "Ask yourself, \"what is the current gold standard for confirming or ruling out the presence of this disease/state?\". Understanding the current gold standard/ground truth test will be a critical benchmark when testing any algorithm you develop. In your project proposal, include a **screen capture or a PDF of the article**.\n",
    "\n",
    "\n"
   ]
  },
  {
   "cell_type": "code",
   "execution_count": null,
   "metadata": {},
   "outputs": [],
   "source": []
  },
  {
   "cell_type": "markdown",
   "metadata": {},
   "source": [
    "## Part 3: Framing the problem as a machine learning task\n",
    "\n",
    "With some background knowledge of the disease or condition at hand, as well as how it is currently ruled in or out, consider how the task could be framed as a machine learning problem. We will be going over this in much more detail in further lessons of this course, but some early exposure will be useful. For example, solving the problem of autonomously detecting one or more lung nodules could be framed as an object detection task. Measuring changes in tumor volume over time may be best framed as a segmentation task, etc. Add a **short paragraph detailing how you would frame your clinical problem of choice as a machine learning task**, and explain your rationale."
   ]
  },
  {
   "cell_type": "code",
   "execution_count": null,
   "metadata": {},
   "outputs": [],
   "source": []
  }
 ],
 "metadata": {
  "kernelspec": {
   "display_name": "Python 3",
   "language": "python",
   "name": "python3"
  },
  "language_info": {
   "codemirror_mode": {
    "name": "ipython",
    "version": 3
   },
   "file_extension": ".py",
   "mimetype": "text/x-python",
   "name": "python",
   "nbconvert_exporter": "python",
   "pygments_lexer": "ipython3",
   "version": "3.7.1"
  }
 },
 "nbformat": 4,
 "nbformat_minor": 4
}
