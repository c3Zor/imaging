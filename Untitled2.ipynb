{
 "cells": [
  {
   "cell_type": "code",
   "execution_count": 10,
   "metadata": {},
   "outputs": [
    {
     "name": "stdout",
     "output_type": "stream",
     "text": [
      "20\n",
      "30 3\n",
      "30\n",
      "120 3\n",
      "120 4\n",
      "120 5\n",
      "120 6\n",
      "120\n",
      "60 3\n",
      "60 4\n",
      "60 5\n",
      "60 6\n",
      "60\n",
      "90 3\n",
      "90\n"
     ]
    }
   ],
   "source": [
    "list = [20,30,120,60,90]\n",
    "other = [3,4,5,6]\n",
    "divided_by_all = []\n",
    "for i in list:\n",
    "    for num in other:\n",
    "        if i % num != 0:\n",
    "            break\n",
    "        else:\n",
    "            print(i, num)\n",
    "    print(i)"
   ]
  },
  {
   "cell_type": "code",
   "execution_count": 11,
   "metadata": {},
   "outputs": [
    {
     "ename": "SyntaxError",
     "evalue": "invalid syntax (<ipython-input-11-1769d4462829>, line 1)",
     "output_type": "error",
     "traceback": [
      "\u001b[0;36m  File \u001b[0;32m\"<ipython-input-11-1769d4462829>\"\u001b[0;36m, line \u001b[0;32m1\u001b[0m\n\u001b[0;31m    120 60\u001b[0m\n\u001b[0m         ^\u001b[0m\n\u001b[0;31mSyntaxError\u001b[0m\u001b[0;31m:\u001b[0m invalid syntax\n"
     ]
    }
   ],
   "source": [
    "120 60"
   ]
  },
  {
   "cell_type": "code",
   "execution_count": null,
   "metadata": {},
   "outputs": [],
   "source": []
  },
  {
   "cell_type": "code",
   "execution_count": null,
   "metadata": {},
   "outputs": [],
   "source": []
  }
 ],
 "metadata": {
  "kernelspec": {
   "display_name": "Python 3",
   "language": "python",
   "name": "python3"
  },
  "language_info": {
   "codemirror_mode": {
    "name": "ipython",
    "version": 3
   },
   "file_extension": ".py",
   "mimetype": "text/x-python",
   "name": "python",
   "nbconvert_exporter": "python",
   "pygments_lexer": "ipython3",
   "version": "3.7.1"
  }
 },
 "nbformat": 4,
 "nbformat_minor": 4
}
